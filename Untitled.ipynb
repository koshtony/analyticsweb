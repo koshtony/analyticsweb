{
 "cells": [
  {
   "cell_type": "code",
   "execution_count": 1,
   "id": "indie-blink",
   "metadata": {},
   "outputs": [
    {
     "data": {
      "text/html": [
       "<div>\n",
       "<style scoped>\n",
       "    .dataframe tbody tr th:only-of-type {\n",
       "        vertical-align: middle;\n",
       "    }\n",
       "\n",
       "    .dataframe tbody tr th {\n",
       "        vertical-align: top;\n",
       "    }\n",
       "\n",
       "    .dataframe thead th {\n",
       "        text-align: right;\n",
       "    }\n",
       "</style>\n",
       "<table border=\"1\" class=\"dataframe\">\n",
       "  <thead>\n",
       "    <tr style=\"text-align: right;\">\n",
       "      <th></th>\n",
       "      <th>CODE</th>\n",
       "      <th>BASE_CURRENCY</th>\n",
       "      <th>QUOTE_CURRENCY</th>\n",
       "    </tr>\n",
       "  </thead>\n",
       "  <tbody>\n",
       "    <tr>\n",
       "      <th>0</th>\n",
       "      <td>AUDUSD</td>\n",
       "      <td>AUD</td>\n",
       "      <td>USD</td>\n",
       "    </tr>\n",
       "    <tr>\n",
       "      <th>1</th>\n",
       "      <td>AUDJPY</td>\n",
       "      <td>AUD</td>\n",
       "      <td>JPY</td>\n",
       "    </tr>\n",
       "    <tr>\n",
       "      <th>2</th>\n",
       "      <td>AUDNZD</td>\n",
       "      <td>AUD</td>\n",
       "      <td>NZD</td>\n",
       "    </tr>\n",
       "    <tr>\n",
       "      <th>3</th>\n",
       "      <td>AUDCAD</td>\n",
       "      <td>AUD</td>\n",
       "      <td>CAD</td>\n",
       "    </tr>\n",
       "    <tr>\n",
       "      <th>4</th>\n",
       "      <td>AUDCHF</td>\n",
       "      <td>AUD</td>\n",
       "      <td>CHF</td>\n",
       "    </tr>\n",
       "  </tbody>\n",
       "</table>\n",
       "</div>"
      ],
      "text/plain": [
       "     CODE BASE_CURRENCY QUOTE_CURRENCY\n",
       "0  AUDUSD           AUD            USD\n",
       "1  AUDJPY           AUD            JPY\n",
       "2  AUDNZD           AUD            NZD\n",
       "3  AUDCAD           AUD            CAD\n",
       "4  AUDCHF           AUD            CHF"
      ]
     },
     "execution_count": 1,
     "metadata": {},
     "output_type": "execute_result"
    }
   ],
   "source": [
    "import pandas as pd\n",
    "curr=pd.read_csv('export.csv')\n",
    "curr.head()"
   ]
  },
  {
   "cell_type": "code",
   "execution_count": 3,
   "id": "valued-basement",
   "metadata": {},
   "outputs": [
    {
     "data": {
      "text/html": [
       "<div>\n",
       "<style scoped>\n",
       "    .dataframe tbody tr th:only-of-type {\n",
       "        vertical-align: middle;\n",
       "    }\n",
       "\n",
       "    .dataframe tbody tr th {\n",
       "        vertical-align: top;\n",
       "    }\n",
       "\n",
       "    .dataframe thead th {\n",
       "        text-align: right;\n",
       "    }\n",
       "</style>\n",
       "<table border=\"1\" class=\"dataframe\">\n",
       "  <thead>\n",
       "    <tr style=\"text-align: right;\">\n",
       "      <th></th>\n",
       "      <th>CODE</th>\n",
       "      <th>BASE_CURRENCY</th>\n",
       "      <th>QUOTE_CURRENCY</th>\n",
       "      <th>new</th>\n",
       "    </tr>\n",
       "  </thead>\n",
       "  <tbody>\n",
       "    <tr>\n",
       "      <th>0</th>\n",
       "      <td>AUDUSD</td>\n",
       "      <td>AUD</td>\n",
       "      <td>USD</td>\n",
       "      <td>AUD-USD</td>\n",
       "    </tr>\n",
       "    <tr>\n",
       "      <th>1</th>\n",
       "      <td>AUDJPY</td>\n",
       "      <td>AUD</td>\n",
       "      <td>JPY</td>\n",
       "      <td>AUD-JPY</td>\n",
       "    </tr>\n",
       "    <tr>\n",
       "      <th>2</th>\n",
       "      <td>AUDNZD</td>\n",
       "      <td>AUD</td>\n",
       "      <td>NZD</td>\n",
       "      <td>AUD-NZD</td>\n",
       "    </tr>\n",
       "    <tr>\n",
       "      <th>3</th>\n",
       "      <td>AUDCAD</td>\n",
       "      <td>AUD</td>\n",
       "      <td>CAD</td>\n",
       "      <td>AUD-CAD</td>\n",
       "    </tr>\n",
       "    <tr>\n",
       "      <th>4</th>\n",
       "      <td>AUDCHF</td>\n",
       "      <td>AUD</td>\n",
       "      <td>CHF</td>\n",
       "      <td>AUD-CHF</td>\n",
       "    </tr>\n",
       "  </tbody>\n",
       "</table>\n",
       "</div>"
      ],
      "text/plain": [
       "     CODE BASE_CURRENCY QUOTE_CURRENCY      new\n",
       "0  AUDUSD           AUD            USD  AUD-USD\n",
       "1  AUDJPY           AUD            JPY  AUD-JPY\n",
       "2  AUDNZD           AUD            NZD  AUD-NZD\n",
       "3  AUDCAD           AUD            CAD  AUD-CAD\n",
       "4  AUDCHF           AUD            CHF  AUD-CHF"
      ]
     },
     "execution_count": 3,
     "metadata": {},
     "output_type": "execute_result"
    }
   ],
   "source": [
    "curr[\"new\"]=curr[[\"BASE_CURRENCY\",\"QUOTE_CURRENCY\"]].apply(lambda x:\"-\".join(x),axis=1)\n",
    "curr.head()"
   ]
  },
  {
   "cell_type": "code",
   "execution_count": 4,
   "id": "graphic-links",
   "metadata": {},
   "outputs": [],
   "source": [
    "curr.to_csv('currency.csv')"
   ]
  },
  {
   "cell_type": "code",
   "execution_count": null,
   "id": "elder-slide",
   "metadata": {},
   "outputs": [],
   "source": []
  }
 ],
 "metadata": {
  "kernelspec": {
   "display_name": "Python 3",
   "language": "python",
   "name": "python3"
  },
  "language_info": {
   "codemirror_mode": {
    "name": "ipython",
    "version": 3
   },
   "file_extension": ".py",
   "mimetype": "text/x-python",
   "name": "python",
   "nbconvert_exporter": "python",
   "pygments_lexer": "ipython3",
   "version": "3.9.2"
  }
 },
 "nbformat": 4,
 "nbformat_minor": 5
}
